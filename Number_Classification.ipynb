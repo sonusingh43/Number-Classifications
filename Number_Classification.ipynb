{
  "nbformat": 4,
  "nbformat_minor": 0,
  "metadata": {
    "colab": {
      "name": "Number_Classification.ipynb",
      "provenance": [],
      "collapsed_sections": []
    },
    "kernelspec": {
      "name": "python3",
      "display_name": "Python 3"
    }
  },
  "cells": [
    {
      "cell_type": "code",
      "metadata": {
        "id": "DBG_VSVLMrSp",
        "colab_type": "code",
        "colab": {}
      },
      "source": [
        "import pandas as pd\n",
        "import numpy as np\n",
        "\n",
        "from tensorflow.keras.layers import Input,Lambda ,Layer,Dense,Flatten,Dropout,Conv2D\n",
        "from tensorflow.keras.models import Model\n",
        "from tensorflow.keras.applications.vgg16 import VGG16\n",
        "from tensorflow.keras.applications.vgg16 import preprocess_input\n",
        "from tensorflow.keras.preprocessing import  image\n",
        "from tensorflow.keras.preprocessing.image import ImageDataGenerator\n",
        "from tensorflow.keras.models import Sequential\n",
        "from tensorflow.keras.utils import to_categorical as catg\n",
        "from tensorflow.keras.preprocessing.image import load_img, img_to_array\n",
        "import seaborn as sns\n",
        "import matplotlib.pyplot as plt\n"
      ],
      "execution_count": 0,
      "outputs": []
    },
    {
      "cell_type": "code",
      "metadata": {
        "id": "iA6mNebONEfv",
        "colab_type": "code",
        "outputId": "56ac1b42-2eae-4b3d-91f5-63da279cc477",
        "colab": {
          "base_uri": "https://localhost:8080/",
          "height": 34
        }
      },
      "source": [
        "! git clone https://github.com/sonusingh43/Number-Classifications"
      ],
      "execution_count": 26,
      "outputs": [
        {
          "output_type": "stream",
          "text": [
            "fatal: destination path 'Number-Classifications' already exists and is not an empty directory.\n"
          ],
          "name": "stdout"
        }
      ]
    },
    {
      "cell_type": "code",
      "metadata": {
        "id": "_Q6b3oUANSnX",
        "colab_type": "code",
        "colab": {}
      },
      "source": [
        "img_width, img_height = 32, 32\n",
        "train_data=pd.read_csv(\"/content/Number-Classifications/Images/train.csv\")\n",
        "test_data=pd.read_csv(\"/content/Number-Classifications/Images/Test.csv\")"
      ],
      "execution_count": 0,
      "outputs": []
    },
    {
      "cell_type": "code",
      "metadata": {
        "id": "IIA43q4GOEP_",
        "colab_type": "code",
        "outputId": "58cf82a4-eeac-4ad1-baee-b171f50f3ba8",
        "colab": {
          "base_uri": "https://localhost:8080/",
          "height": 204
        }
      },
      "source": [
        "train_data.head()"
      ],
      "execution_count": 28,
      "outputs": [
        {
          "output_type": "execute_result",
          "data": {
            "text/html": [
              "<div>\n",
              "<style scoped>\n",
              "    .dataframe tbody tr th:only-of-type {\n",
              "        vertical-align: middle;\n",
              "    }\n",
              "\n",
              "    .dataframe tbody tr th {\n",
              "        vertical-align: top;\n",
              "    }\n",
              "\n",
              "    .dataframe thead th {\n",
              "        text-align: right;\n",
              "    }\n",
              "</style>\n",
              "<table border=\"1\" class=\"dataframe\">\n",
              "  <thead>\n",
              "    <tr style=\"text-align: right;\">\n",
              "      <th></th>\n",
              "      <th>filename</th>\n",
              "      <th>label</th>\n",
              "    </tr>\n",
              "  </thead>\n",
              "  <tbody>\n",
              "    <tr>\n",
              "      <th>0</th>\n",
              "      <td>0.png</td>\n",
              "      <td>4</td>\n",
              "    </tr>\n",
              "    <tr>\n",
              "      <th>1</th>\n",
              "      <td>1.png</td>\n",
              "      <td>9</td>\n",
              "    </tr>\n",
              "    <tr>\n",
              "      <th>2</th>\n",
              "      <td>2.png</td>\n",
              "      <td>1</td>\n",
              "    </tr>\n",
              "    <tr>\n",
              "      <th>3</th>\n",
              "      <td>3.png</td>\n",
              "      <td>7</td>\n",
              "    </tr>\n",
              "    <tr>\n",
              "      <th>4</th>\n",
              "      <td>4.png</td>\n",
              "      <td>3</td>\n",
              "    </tr>\n",
              "  </tbody>\n",
              "</table>\n",
              "</div>"
            ],
            "text/plain": [
              "  filename  label\n",
              "0    0.png      4\n",
              "1    1.png      9\n",
              "2    2.png      1\n",
              "3    3.png      7\n",
              "4    4.png      3"
            ]
          },
          "metadata": {
            "tags": []
          },
          "execution_count": 28
        }
      ]
    },
    {
      "cell_type": "code",
      "metadata": {
        "id": "EH0XIvUbghY5",
        "colab_type": "code",
        "colab": {
          "base_uri": "https://localhost:8080/",
          "height": 34
        },
        "outputId": "78f918ce-fe83-4688-c243-746f44aaf7cd"
      },
      "source": [
        "train_data['label'].unique()"
      ],
      "execution_count": 64,
      "outputs": [
        {
          "output_type": "execute_result",
          "data": {
            "text/plain": [
              "array([4, 9, 1, 7, 3, 2, 6, 0, 8, 5])"
            ]
          },
          "metadata": {
            "tags": []
          },
          "execution_count": 64
        }
      ]
    },
    {
      "cell_type": "code",
      "metadata": {
        "id": "KTrhad71ghs8",
        "colab_type": "code",
        "colab": {
          "base_uri": "https://localhost:8080/",
          "height": 297
        },
        "outputId": "33351790-263a-455f-b662-90c800736e1a"
      },
      "source": [
        "chart = sns.countplot(train_data.label)\n",
        "plt.title(\"Number of texts per Label\")\n",
        "chart.set_xticklabels(chart.get_xticklabels(), rotation=30, horizontalalignment='right');"
      ],
      "execution_count": 68,
      "outputs": [
        {
          "output_type": "display_data",
          "data": {
            "image/png": "[encoded data removed]",
            "text/plain": [
              "<Figure size 432x288 with 1 Axes>"
            ]
          },
          "metadata": {
            "tags": []
          }
        }
      ]
    },
    {
      "cell_type": "code",
      "metadata": {
        "id": "AkWBhd-5OR2t",
        "colab_type": "code",
        "outputId": "67b5f913-86d5-424e-d151-d738534db430",
        "colab": {
          "base_uri": "https://localhost:8080/",
          "height": 204
        }
      },
      "source": [
        "test_data.head()"
      ],
      "execution_count": 29,
      "outputs": [
        {
          "output_type": "execute_result",
          "data": {
            "text/html": [
              "<div>\n",
              "<style scoped>\n",
              "    .dataframe tbody tr th:only-of-type {\n",
              "        vertical-align: middle;\n",
              "    }\n",
              "\n",
              "    .dataframe tbody tr th {\n",
              "        vertical-align: top;\n",
              "    }\n",
              "\n",
              "    .dataframe thead th {\n",
              "        text-align: right;\n",
              "    }\n",
              "</style>\n",
              "<table border=\"1\" class=\"dataframe\">\n",
              "  <thead>\n",
              "    <tr style=\"text-align: right;\">\n",
              "      <th></th>\n",
              "      <th>filename</th>\n",
              "    </tr>\n",
              "  </thead>\n",
              "  <tbody>\n",
              "    <tr>\n",
              "      <th>0</th>\n",
              "      <td>49000.png</td>\n",
              "    </tr>\n",
              "    <tr>\n",
              "      <th>1</th>\n",
              "      <td>49001.png</td>\n",
              "    </tr>\n",
              "    <tr>\n",
              "      <th>2</th>\n",
              "      <td>49002.png</td>\n",
              "    </tr>\n",
              "    <tr>\n",
              "      <th>3</th>\n",
              "      <td>49003.png</td>\n",
              "    </tr>\n",
              "    <tr>\n",
              "      <th>4</th>\n",
              "      <td>49004.png</td>\n",
              "    </tr>\n",
              "  </tbody>\n",
              "</table>\n",
              "</div>"
            ],
            "text/plain": [
              "    filename\n",
              "0  49000.png\n",
              "1  49001.png\n",
              "2  49002.png\n",
              "3  49003.png\n",
              "4  49004.png"
            ]
          },
          "metadata": {
            "tags": []
          },
          "execution_count": 29
        }
      ]
    },
    {
      "cell_type": "code",
      "metadata": {
        "id": "MEmcjeD_OaYE",
        "colab_type": "code",
        "colab": {}
      },
      "source": [
        "#Get the path of the images\n",
        "from os.path import join\n",
        "train_paths='/content/Number-Classifications/Images/train'\n",
        "#val_paths='Images/val'\n",
        "filenames=train_data['filename'].tolist()\n",
        "img_paths = [join(train_paths, filename) for filename in filenames]"
      ],
      "execution_count": 0,
      "outputs": []
    },
    {
      "cell_type": "code",
      "metadata": {
        "id": "zFwzjcLnPSL5",
        "colab_type": "code",
        "outputId": "cca350ec-ff66-4ffd-9ece-dda784501720",
        "colab": {
          "base_uri": "https://localhost:8080/",
          "height": 1000
        }
      },
      "source": [
        "img_paths"
      ],
      "execution_count": 39,
      "outputs": [
        {
          "output_type": "execute_result",
          "data": {
            "text/plain": [
              "['/content/Number-Classifications/Images/train/0.png',\n",
              " '/content/Number-Classifications/Images/train/1.png',\n",
              " '/content/Number-Classifications/Images/train/2.png',\n",
              " '/content/Number-Classifications/Images/train/3.png',\n",
              " '/content/Number-Classifications/Images/train/4.png',\n",
              " '/content/Number-Classifications/Images/train/5.png',\n",
              " '/content/Number-Classifications/Images/train/6.png',\n",
              " '/content/Number-Classifications/Images/train/7.png',\n",
              " '/content/Number-Classifications/Images/train/8.png',\n",
              " '/content/Number-Classifications/Images/train/9.png',\n",
              " '/content/Number-Classifications/Images/train/10.png',\n",
              " '/content/Number-Classifications/Images/train/11.png',\n",
              " '/content/Number-Classifications/Images/train/12.png',\n",
              " '/content/Number-Classifications/Images/train/13.png',\n",
              " '/content/Number-Classifications/Images/train/14.png',\n",
              " '/content/Number-Classifications/Images/train/15.png',\n",
              " '/content/Number-Classifications/Images/train/16.png',\n",
              " '/content/Number-Classifications/Images/train/17.png',\n",
              " '/content/Number-Classifications/Images/train/18.png',\n",
              " '/content/Number-Classifications/Images/train/19.png',\n",
              " '/content/Number-Classifications/Images/train/20.png',\n",
              " '/content/Number-Classifications/Images/train/21.png',\n",
              " '/content/Number-Classifications/Images/train/22.png',\n",
              " '/content/Number-Classifications/Images/train/23.png',\n",
              " '/content/Number-Classifications/Images/train/24.png',\n",
              " '/content/Number-Classifications/Images/train/25.png',\n",
              " '/content/Number-Classifications/Images/train/26.png',\n",
              " '/content/Number-Classifications/Images/train/27.png',\n",
              " '/content/Number-Classifications/Images/train/28.png',\n",
              " '/content/Number-Classifications/Images/train/29.png',\n",
              " '/content/Number-Classifications/Images/train/30.png',\n",
              " '/content/Number-Classifications/Images/train/31.png',\n",
              " '/content/Number-Classifications/Images/train/32.png',\n",
              " '/content/Number-Classifications/Images/train/33.png',\n",
              " '/content/Number-Classifications/Images/train/34.png',\n",
              " '/content/Number-Classifications/Images/train/35.png',\n",
              " '/content/Number-Classifications/Images/train/36.png',\n",
              " '/content/Number-Classifications/Images/train/37.png',\n",
              " '/content/Number-Classifications/Images/train/38.png',\n",
              " '/content/Number-Classifications/Images/train/39.png',\n",
              " '/content/Number-Classifications/Images/train/40.png',\n",
              " '/content/Number-Classifications/Images/train/41.png',\n",
              " '/content/Number-Classifications/Images/train/42.png',\n",
              " '/content/Number-Classifications/Images/train/43.png',\n",
              " '/content/Number-Classifications/Images/train/44.png',\n",
              " '/content/Number-Classifications/Images/train/45.png',\n",
              " '/content/Number-Classifications/Images/train/46.png',\n",
              " '/content/Number-Classifications/Images/train/47.png',\n",
              " '/content/Number-Classifications/Images/train/48.png',\n",
              " '/content/Number-Classifications/Images/train/49.png',\n",
              " '/content/Number-Classifications/Images/train/50.png',\n",
              " '/content/Number-Classifications/Images/train/51.png',\n",
              " '/content/Number-Classifications/Images/train/52.png',\n",
              " '/content/Number-Classifications/Images/train/53.png',\n",
              " '/content/Number-Classifications/Images/train/54.png',\n",
              " '/content/Number-Classifications/Images/train/55.png',\n",
              " '/content/Number-Classifications/Images/train/56.png',\n",
              " '/content/Number-Classifications/Images/train/57.png',\n",
              " '/content/Number-Classifications/Images/train/58.png',\n",
              " '/content/Number-Classifications/Images/train/59.png',\n",
              " '/content/Number-Classifications/Images/train/60.png',\n",
              " '/content/Number-Classifications/Images/train/61.png',\n",
              " '/content/Number-Classifications/Images/train/62.png',\n",
              " '/content/Number-Classifications/Images/train/63.png',\n",
              " '/content/Number-Classifications/Images/train/64.png',\n",
              " '/content/Number-Classifications/Images/train/65.png',\n",
              " '/content/Number-Classifications/Images/train/66.png',\n",
              " '/content/Number-Classifications/Images/train/67.png',\n",
              " '/content/Number-Classifications/Images/train/68.png',\n",
              " '/content/Number-Classifications/Images/train/69.png',\n",
              " '/content/Number-Classifications/Images/train/70.png',\n",
              " '/content/Number-Classifications/Images/train/71.png',\n",
              " '/content/Number-Classifications/Images/train/72.png',\n",
              " '/content/Number-Classifications/Images/train/73.png',\n",
              " '/content/Number-Classifications/Images/train/74.png',\n",
              " '/content/Number-Classifications/Images/train/75.png',\n",
              " '/content/Number-Classifications/Images/train/76.png',\n",
              " '/content/Number-Classifications/Images/train/77.png',\n",
              " '/content/Number-Classifications/Images/train/78.png',\n",
              " '/content/Number-Classifications/Images/train/79.png',\n",
              " '/content/Number-Classifications/Images/train/80.png',\n",
              " '/content/Number-Classifications/Images/train/81.png',\n",
              " '/content/Number-Classifications/Images/train/82.png',\n",
              " '/content/Number-Classifications/Images/train/83.png',\n",
              " '/content/Number-Classifications/Images/train/84.png',\n",
              " '/content/Number-Classifications/Images/train/85.png',\n",
              " '/content/Number-Classifications/Images/train/86.png',\n",
              " '/content/Number-Classifications/Images/train/87.png',\n",
              " '/content/Number-Classifications/Images/train/88.png',\n",
              " '/content/Number-Classifications/Images/train/89.png',\n",
              " '/content/Number-Classifications/Images/train/90.png',\n",
              " '/content/Number-Classifications/Images/train/91.png',\n",
              " '/content/Number-Classifications/Images/train/92.png',\n",
              " '/content/Number-Classifications/Images/train/93.png',\n",
              " '/content/Number-Classifications/Images/train/94.png',\n",
              " '/content/Number-Classifications/Images/train/95.png',\n",
              " '/content/Number-Classifications/Images/train/96.png',\n",
              " '/content/Number-Classifications/Images/train/97.png',\n",
              " '/content/Number-Classifications/Images/train/98.png',\n",
              " '/content/Number-Classifications/Images/train/99.png',\n",
              " '/content/Number-Classifications/Images/train/100.png',\n",
              " '/content/Number-Classifications/Images/train/101.png',\n",
              " '/content/Number-Classifications/Images/train/102.png',\n",
              " '/content/Number-Classifications/Images/train/103.png',\n",
              " '/content/Number-Classifications/Images/train/104.png',\n",
              " '/content/Number-Classifications/Images/train/105.png',\n",
              " '/content/Number-Classifications/Images/train/106.png',\n",
              " '/content/Number-Classifications/Images/train/107.png',\n",
              " '/content/Number-Classifications/Images/train/108.png',\n",
              " '/content/Number-Classifications/Images/train/109.png',\n",
              " '/content/Number-Classifications/Images/train/110.png',\n",
              " '/content/Number-Classifications/Images/train/111.png',\n",
              " '/content/Number-Classifications/Images/train/112.png',\n",
              " '/content/Number-Classifications/Images/train/113.png',\n",
              " '/content/Number-Classifications/Images/train/114.png',\n",
              " '/content/Number-Classifications/Images/train/115.png',\n",
              " '/content/Number-Classifications/Images/train/116.png',\n",
              " '/content/Number-Classifications/Images/train/117.png',\n",
              " '/content/Number-Classifications/Images/train/118.png',\n",
              " '/content/Number-Classifications/Images/train/119.png',\n",
              " '/content/Number-Classifications/Images/train/120.png',\n",
              " '/content/Number-Classifications/Images/train/121.png',\n",
              " '/content/Number-Classifications/Images/train/122.png',\n",
              " '/content/Number-Classifications/Images/train/123.png',\n",
              " '/content/Number-Classifications/Images/train/124.png',\n",
              " '/content/Number-Classifications/Images/train/125.png',\n",
              " '/content/Number-Classifications/Images/train/126.png',\n",
              " '/content/Number-Classifications/Images/train/127.png',\n",
              " '/content/Number-Classifications/Images/train/128.png',\n",
              " '/content/Number-Classifications/Images/train/129.png',\n",
              " '/content/Number-Classifications/Images/train/130.png',\n",
              " '/content/Number-Classifications/Images/train/131.png',\n",
              " '/content/Number-Classifications/Images/train/132.png',\n",
              " '/content/Number-Classifications/Images/train/133.png',\n",
              " '/content/Number-Classifications/Images/train/134.png',\n",
              " '/content/Number-Classifications/Images/train/135.png',\n",
              " '/content/Number-Classifications/Images/train/136.png',\n",
              " '/content/Number-Classifications/Images/train/137.png',\n",
              " '/content/Number-Classifications/Images/train/138.png',\n",
              " '/content/Number-Classifications/Images/train/139.png',\n",
              " '/content/Number-Classifications/Images/train/140.png',\n",
              " '/content/Number-Classifications/Images/train/141.png',\n",
              " '/content/Number-Classifications/Images/train/142.png',\n",
              " '/content/Number-Classifications/Images/train/143.png',\n",
              " '/content/Number-Classifications/Images/train/144.png',\n",
              " '/content/Number-Classifications/Images/train/145.png',\n",
              " '/content/Number-Classifications/Images/train/146.png',\n",
              " '/content/Number-Classifications/Images/train/147.png',\n",
              " '/content/Number-Classifications/Images/train/148.png',\n",
              " '/content/Number-Classifications/Images/train/149.png',\n",
              " '/content/Number-Classifications/Images/train/150.png',\n",
              " '/content/Number-Classifications/Images/train/151.png',\n",
              " '/content/Number-Classifications/Images/train/152.png',\n",
              " '/content/Number-Classifications/Images/train/153.png',\n",
              " '/content/Number-Classifications/Images/train/154.png',\n",
              " '/content/Number-Classifications/Images/train/155.png',\n",
              " '/content/Number-Classifications/Images/train/156.png',\n",
              " '/content/Number-Classifications/Images/train/157.png',\n",
              " '/content/Number-Classifications/Images/train/158.png',\n",
              " '/content/Number-Classifications/Images/train/159.png',\n",
              " '/content/Number-Classifications/Images/train/160.png',\n",
              " '/content/Number-Classifications/Images/train/161.png',\n",
              " '/content/Number-Classifications/Images/train/162.png',\n",
              " '/content/Number-Classifications/Images/train/163.png',\n",
              " '/content/Number-Classifications/Images/train/164.png',\n",
              " '/content/Number-Classifications/Images/train/165.png',\n",
              " '/content/Number-Classifications/Images/train/166.png',\n",
              " '/content/Number-Classifications/Images/train/167.png',\n",
              " '/content/Number-Classifications/Images/train/168.png',\n",
              " '/content/Number-Classifications/Images/train/169.png',\n",
              " '/content/Number-Classifications/Images/train/170.png',\n",
              " '/content/Number-Classifications/Images/train/171.png',\n",
              " '/content/Number-Classifications/Images/train/172.png',\n",
              " '/content/Number-Classifications/Images/train/173.png',\n",
              " '/content/Number-Classifications/Images/train/174.png',\n",
              " '/content/Number-Classifications/Images/train/175.png',\n",
              " '/content/Number-Classifications/Images/train/176.png',\n",
              " '/content/Number-Classifications/Images/train/177.png',\n",
              " '/content/Number-Classifications/Images/train/178.png',\n",
              " '/content/Number-Classifications/Images/train/179.png',\n",
              " '/content/Number-Classifications/Images/train/180.png',\n",
              " '/content/Number-Classifications/Images/train/181.png',\n",
              " '/content/Number-Classifications/Images/train/182.png',\n",
              " '/content/Number-Classifications/Images/train/183.png',\n",
              " '/content/Number-Classifications/Images/train/184.png',\n",
              " '/content/Number-Classifications/Images/train/185.png',\n",
              " '/content/Number-Classifications/Images/train/186.png',\n",
              " '/content/Number-Classifications/Images/train/187.png',\n",
              " '/content/Number-Classifications/Images/train/188.png',\n",
              " '/content/Number-Classifications/Images/train/189.png',\n",
              " '/content/Number-Classifications/Images/train/190.png',\n",
              " '/content/Number-Classifications/Images/train/191.png',\n",
              " '/content/Number-Classifications/Images/train/192.png',\n",
              " '/content/Number-Classifications/Images/train/193.png',\n",
              " '/content/Number-Classifications/Images/train/194.png',\n",
              " '/content/Number-Classifications/Images/train/195.png',\n",
              " '/content/Number-Classifications/Images/train/196.png',\n",
              " '/content/Number-Classifications/Images/train/197.png',\n",
              " '/content/Number-Classifications/Images/train/198.png',\n",
              " '/content/Number-Classifications/Images/train/199.png',\n",
              " '/content/Number-Classifications/Images/train/200.png',\n",
              " '/content/Number-Classifications/Images/train/201.png',\n",
              " '/content/Number-Classifications/Images/train/202.png',\n",
              " '/content/Number-Classifications/Images/train/203.png',\n",
              " '/content/Number-Classifications/Images/train/204.png',\n",
              " '/content/Number-Classifications/Images/train/205.png',\n",
              " '/content/Number-Classifications/Images/train/206.png',\n",
              " '/content/Number-Classifications/Images/train/207.png',\n",
              " '/content/Number-Classifications/Images/train/208.png',\n",
              " '/content/Number-Classifications/Images/train/209.png',\n",
              " '/content/Number-Classifications/Images/train/210.png',\n",
              " '/content/Number-Classifications/Images/train/211.png',\n",
              " '/content/Number-Classifications/Images/train/212.png',\n",
              " '/content/Number-Classifications/Images/train/213.png',\n",
              " '/content/Number-Classifications/Images/train/214.png',\n",
              " '/content/Number-Classifications/Images/train/215.png',\n",
              " '/content/Number-Classifications/Images/train/216.png',\n",
              " '/content/Number-Classifications/Images/train/217.png',\n",
              " '/content/Number-Classifications/Images/train/218.png',\n",
              " '/content/Number-Classifications/Images/train/219.png',\n",
              " '/content/Number-Classifications/Images/train/220.png',\n",
              " '/content/Number-Classifications/Images/train/221.png',\n",
              " '/content/Number-Classifications/Images/train/222.png',\n",
              " '/content/Number-Classifications/Images/train/223.png',\n",
              " '/content/Number-Classifications/Images/train/224.png',\n",
              " '/content/Number-Classifications/Images/train/225.png',\n",
              " '/content/Number-Classifications/Images/train/226.png',\n",
              " '/content/Number-Classifications/Images/train/227.png',\n",
              " '/content/Number-Classifications/Images/train/228.png',\n",
              " '/content/Number-Classifications/Images/train/229.png',\n",
              " '/content/Number-Classifications/Images/train/230.png',\n",
              " '/content/Number-Classifications/Images/train/231.png',\n",
              " '/content/Number-Classifications/Images/train/232.png',\n",
              " '/content/Number-Classifications/Images/train/233.png',\n",
              " '/content/Number-Classifications/Images/train/234.png',\n",
              " '/content/Number-Classifications/Images/train/235.png',\n",
              " '/content/Number-Classifications/Images/train/236.png',\n",
              " '/content/Number-Classifications/Images/train/237.png',\n",
              " '/content/Number-Classifications/Images/train/238.png',\n",
              " '/content/Number-Classifications/Images/train/239.png',\n",
              " '/content/Number-Classifications/Images/train/240.png',\n",
              " '/content/Number-Classifications/Images/train/241.png',\n",
              " '/content/Number-Classifications/Images/train/242.png',\n",
              " '/content/Number-Classifications/Images/train/243.png',\n",
              " '/content/Number-Classifications/Images/train/244.png',\n",
              " '/content/Number-Classifications/Images/train/245.png',\n",
              " '/content/Number-Classifications/Images/train/246.png',\n",
              " '/content/Number-Classifications/Images/train/247.png',\n",
              " '/content/Number-Classifications/Images/train/248.png',\n",
              " '/content/Number-Classifications/Images/train/249.png',\n",
              " '/content/Number-Classifications/Images/train/250.png',\n",
              " '/content/Number-Classifications/Images/train/251.png',\n",
              " '/content/Number-Classifications/Images/train/252.png',\n",
              " '/content/Number-Classifications/Images/train/253.png',\n",
              " '/content/Number-Classifications/Images/train/254.png',\n",
              " '/content/Number-Classifications/Images/train/255.png',\n",
              " '/content/Number-Classifications/Images/train/256.png',\n",
              " '/content/Number-Classifications/Images/train/257.png',\n",
              " '/content/Number-Classifications/Images/train/258.png',\n",
              " '/content/Number-Classifications/Images/train/259.png',\n",
              " '/content/Number-Classifications/Images/train/260.png',\n",
              " '/content/Number-Classifications/Images/train/261.png',\n",
              " '/content/Number-Classifications/Images/train/262.png',\n",
              " '/content/Number-Classifications/Images/train/263.png',\n",
              " '/content/Number-Classifications/Images/train/264.png',\n",
              " '/content/Number-Classifications/Images/train/265.png',\n",
              " '/content/Number-Classifications/Images/train/266.png',\n",
              " '/content/Number-Classifications/Images/train/267.png',\n",
              " '/content/Number-Classifications/Images/train/268.png',\n",
              " '/content/Number-Classifications/Images/train/269.png',\n",
              " '/content/Number-Classifications/Images/train/270.png',\n",
              " '/content/Number-Classifications/Images/train/271.png',\n",
              " '/content/Number-Classifications/Images/train/272.png',\n",
              " '/content/Number-Classifications/Images/train/273.png',\n",
              " '/content/Number-Classifications/Images/train/274.png',\n",
              " '/content/Number-Classifications/Images/train/275.png',\n",
              " '/content/Number-Classifications/Images/train/276.png',\n",
              " '/content/Number-Classifications/Images/train/277.png',\n",
              " '/content/Number-Classifications/Images/train/278.png',\n",
              " '/content/Number-Classifications/Images/train/279.png',\n",
              " '/content/Number-Classifications/Images/train/280.png',\n",
              " '/content/Number-Classifications/Images/train/281.png',\n",
              " '/content/Number-Classifications/Images/train/282.png',\n",
              " '/content/Number-Classifications/Images/train/283.png',\n",
              " '/content/Number-Classifications/Images/train/284.png',\n",
              " '/content/Number-Classifications/Images/train/285.png',\n",
              " '/content/Number-Classifications/Images/train/286.png',\n",
              " '/content/Number-Classifications/Images/train/287.png',\n",
              " '/content/Number-Classifications/Images/train/288.png',\n",
              " '/content/Number-Classifications/Images/train/289.png',\n",
              " '/content/Number-Classifications/Images/train/290.png',\n",
              " '/content/Number-Classifications/Images/train/291.png',\n",
              " '/content/Number-Classifications/Images/train/292.png',\n",
              " '/content/Number-Classifications/Images/train/293.png',\n",
              " '/content/Number-Classifications/Images/train/294.png',\n",
              " '/content/Number-Classifications/Images/train/295.png',\n",
              " '/content/Number-Classifications/Images/train/296.png',\n",
              " '/content/Number-Classifications/Images/train/297.png',\n",
              " '/content/Number-Classifications/Images/train/298.png',\n",
              " '/content/Number-Classifications/Images/train/299.png',\n",
              " '/content/Number-Classifications/Images/train/300.png',\n",
              " '/content/Number-Classifications/Images/train/301.png',\n",
              " '/content/Number-Classifications/Images/train/302.png',\n",
              " '/content/Number-Classifications/Images/train/303.png',\n",
              " '/content/Number-Classifications/Images/train/304.png',\n",
              " '/content/Number-Classifications/Images/train/305.png',\n",
              " '/content/Number-Classifications/Images/train/306.png',\n",
              " '/content/Number-Classifications/Images/train/307.png',\n",
              " '/content/Number-Classifications/Images/train/308.png',\n",
              " '/content/Number-Classifications/Images/train/309.png',\n",
              " '/content/Number-Classifications/Images/train/310.png',\n",
              " '/content/Number-Classifications/Images/train/311.png',\n",
              " '/content/Number-Classifications/Images/train/312.png',\n",
              " '/content/Number-Classifications/Images/train/313.png',\n",
              " '/content/Number-Classifications/Images/train/314.png',\n",
              " '/content/Number-Classifications/Images/train/315.png',\n",
              " '/content/Number-Classifications/Images/train/316.png',\n",
              " '/content/Number-Classifications/Images/train/317.png',\n",
              " '/content/Number-Classifications/Images/train/318.png',\n",
              " '/content/Number-Classifications/Images/train/319.png',\n",
              " '/content/Number-Classifications/Images/train/320.png',\n",
              " '/content/Number-Classifications/Images/train/321.png',\n",
              " '/content/Number-Classifications/Images/train/322.png',\n",
              " '/content/Number-Classifications/Images/train/323.png',\n",
              " '/content/Number-Classifications/Images/train/324.png',\n",
              " '/content/Number-Classifications/Images/train/325.png',\n",
              " '/content/Number-Classifications/Images/train/326.png',\n",
              " '/content/Number-Classifications/Images/train/327.png',\n",
              " '/content/Number-Classifications/Images/train/328.png',\n",
              " '/content/Number-Classifications/Images/train/329.png',\n",
              " '/content/Number-Classifications/Images/train/330.png',\n",
              " '/content/Number-Classifications/Images/train/331.png',\n",
              " '/content/Number-Classifications/Images/train/332.png',\n",
              " '/content/Number-Classifications/Images/train/333.png',\n",
              " '/content/Number-Classifications/Images/train/334.png',\n",
              " '/content/Number-Classifications/Images/train/335.png',\n",
              " '/content/Number-Classifications/Images/train/336.png',\n",
              " '/content/Number-Classifications/Images/train/337.png',\n",
              " '/content/Number-Classifications/Images/train/338.png',\n",
              " '/content/Number-Classifications/Images/train/339.png',\n",
              " '/content/Number-Classifications/Images/train/340.png',\n",
              " '/content/Number-Classifications/Images/train/341.png',\n",
              " '/content/Number-Classifications/Images/train/342.png',\n",
              " '/content/Number-Classifications/Images/train/343.png',\n",
              " '/content/Number-Classifications/Images/train/344.png',\n",
              " '/content/Number-Classifications/Images/train/345.png',\n",
              " '/content/Number-Classifications/Images/train/346.png',\n",
              " '/content/Number-Classifications/Images/train/347.png',\n",
              " '/content/Number-Classifications/Images/train/348.png',\n",
              " '/content/Number-Classifications/Images/train/349.png',\n",
              " '/content/Number-Classifications/Images/train/350.png',\n",
              " '/content/Number-Classifications/Images/train/351.png',\n",
              " '/content/Number-Classifications/Images/train/352.png',\n",
              " '/content/Number-Classifications/Images/train/353.png',\n",
              " '/content/Number-Classifications/Images/train/354.png',\n",
              " '/content/Number-Classifications/Images/train/355.png',\n",
              " '/content/Number-Classifications/Images/train/356.png',\n",
              " '/content/Number-Classifications/Images/train/357.png',\n",
              " '/content/Number-Classifications/Images/train/358.png',\n",
              " '/content/Number-Classifications/Images/train/359.png',\n",
              " '/content/Number-Classifications/Images/train/360.png',\n",
              " '/content/Number-Classifications/Images/train/361.png',\n",
              " '/content/Number-Classifications/Images/train/362.png',\n",
              " '/content/Number-Classifications/Images/train/363.png',\n",
              " '/content/Number-Classifications/Images/train/364.png',\n",
              " '/content/Number-Classifications/Images/train/365.png',\n",
              " '/content/Number-Classifications/Images/train/366.png',\n",
              " '/content/Number-Classifications/Images/train/367.png',\n",
              " '/content/Number-Classifications/Images/train/368.png',\n",
              " '/content/Number-Classifications/Images/train/369.png',\n",
              " '/content/Number-Classifications/Images/train/370.png',\n",
              " '/content/Number-Classifications/Images/train/371.png',\n",
              " '/content/Number-Classifications/Images/train/372.png',\n",
              " '/content/Number-Classifications/Images/train/373.png',\n",
              " '/content/Number-Classifications/Images/train/374.png',\n",
              " '/content/Number-Classifications/Images/train/375.png',\n",
              " '/content/Number-Classifications/Images/train/376.png',\n",
              " '/content/Number-Classifications/Images/train/377.png',\n",
              " '/content/Number-Classifications/Images/train/378.png',\n",
              " '/content/Number-Classifications/Images/train/379.png',\n",
              " '/content/Number-Classifications/Images/train/380.png',\n",
              " '/content/Number-Classifications/Images/train/381.png',\n",
              " '/content/Number-Classifications/Images/train/382.png',\n",
              " '/content/Number-Classifications/Images/train/383.png',\n",
              " '/content/Number-Classifications/Images/train/384.png',\n",
              " '/content/Number-Classifications/Images/train/385.png',\n",
              " '/content/Number-Classifications/Images/train/386.png',\n",
              " '/content/Number-Classifications/Images/train/387.png',\n",
              " '/content/Number-Classifications/Images/train/388.png',\n",
              " '/content/Number-Classifications/Images/train/389.png',\n",
              " '/content/Number-Classifications/Images/train/390.png',\n",
              " '/content/Number-Classifications/Images/train/391.png',\n",
              " '/content/Number-Classifications/Images/train/392.png',\n",
              " '/content/Number-Classifications/Images/train/393.png',\n",
              " '/content/Number-Classifications/Images/train/394.png',\n",
              " '/content/Number-Classifications/Images/train/395.png',\n",
              " '/content/Number-Classifications/Images/train/396.png',\n",
              " '/content/Number-Classifications/Images/train/397.png',\n",
              " '/content/Number-Classifications/Images/train/398.png',\n",
              " '/content/Number-Classifications/Images/train/399.png',\n",
              " '/content/Number-Classifications/Images/train/400.png',\n",
              " '/content/Number-Classifications/Images/train/401.png',\n",
              " '/content/Number-Classifications/Images/train/402.png',\n",
              " '/content/Number-Classifications/Images/train/403.png',\n",
              " '/content/Number-Classifications/Images/train/404.png',\n",
              " '/content/Number-Classifications/Images/train/405.png',\n",
              " '/content/Number-Classifications/Images/train/406.png',\n",
              " '/content/Number-Classifications/Images/train/407.png',\n",
              " '/content/Number-Classifications/Images/train/408.png',\n",
              " '/content/Number-Classifications/Images/train/409.png',\n",
              " '/content/Number-Classifications/Images/train/410.png',\n",
              " '/content/Number-Classifications/Images/train/411.png',\n",
              " '/content/Number-Classifications/Images/train/412.png',\n",
              " '/content/Number-Classifications/Images/train/413.png',\n",
              " '/content/Number-Classifications/Images/train/414.png',\n",
              " '/content/Number-Classifications/Images/train/415.png',\n",
              " '/content/Number-Classifications/Images/train/416.png',\n",
              " '/content/Number-Classifications/Images/train/417.png',\n",
              " '/content/Number-Classifications/Images/train/418.png',\n",
              " '/content/Number-Classifications/Images/train/419.png',\n",
              " '/content/Number-Classifications/Images/train/420.png',\n",
              " '/content/Number-Classifications/Images/train/421.png',\n",
              " '/content/Number-Classifications/Images/train/422.png',\n",
              " '/content/Number-Classifications/Images/train/423.png',\n",
              " '/content/Number-Classifications/Images/train/424.png',\n",
              " '/content/Number-Classifications/Images/train/425.png',\n",
              " '/content/Number-Classifications/Images/train/426.png',\n",
              " '/content/Number-Classifications/Images/train/427.png',\n",
              " '/content/Number-Classifications/Images/train/428.png',\n",
              " '/content/Number-Classifications/Images/train/429.png',\n",
              " '/content/Number-Classifications/Images/train/430.png',\n",
              " '/content/Number-Classifications/Images/train/431.png',\n",
              " '/content/Number-Classifications/Images/train/432.png',\n",
              " '/content/Number-Classifications/Images/train/433.png',\n",
              " '/content/Number-Classifications/Images/train/434.png',\n",
              " '/content/Number-Classifications/Images/train/435.png',\n",
              " '/content/Number-Classifications/Images/train/436.png',\n",
              " '/content/Number-Classifications/Images/train/437.png',\n",
              " '/content/Number-Classifications/Images/train/438.png',\n",
              " '/content/Number-Classifications/Images/train/439.png',\n",
              " '/content/Number-Classifications/Images/train/440.png',\n",
              " '/content/Number-Classifications/Images/train/441.png',\n",
              " '/content/Number-Classifications/Images/train/442.png',\n",
              " '/content/Number-Classifications/Images/train/443.png',\n",
              " '/content/Number-Classifications/Images/train/444.png',\n",
              " '/content/Number-Classifications/Images/train/445.png',\n",
              " '/content/Number-Classifications/Images/train/446.png',\n",
              " '/content/Number-Classifications/Images/train/447.png',\n",
              " '/content/Number-Classifications/Images/train/448.png',\n",
              " '/content/Number-Classifications/Images/train/449.png',\n",
              " '/content/Number-Classifications/Images/train/450.png',\n",
              " '/content/Number-Classifications/Images/train/451.png',\n",
              " '/content/Number-Classifications/Images/train/452.png',\n",
              " '/content/Number-Classifications/Images/train/453.png',\n",
              " '/content/Number-Classifications/Images/train/454.png',\n",
              " '/content/Number-Classifications/Images/train/455.png',\n",
              " '/content/Number-Classifications/Images/train/456.png',\n",
              " '/content/Number-Classifications/Images/train/457.png',\n",
              " '/content/Number-Classifications/Images/train/458.png',\n",
              " '/content/Number-Classifications/Images/train/459.png',\n",
              " '/content/Number-Classifications/Images/train/460.png',\n",
              " '/content/Number-Classifications/Images/train/461.png',\n",
              " '/content/Number-Classifications/Images/train/462.png',\n",
              " '/content/Number-Classifications/Images/train/463.png',\n",
              " '/content/Number-Classifications/Images/train/464.png',\n",
              " '/content/Number-Classifications/Images/train/465.png',\n",
              " '/content/Number-Classifications/Images/train/466.png',\n",
              " '/content/Number-Classifications/Images/train/467.png',\n",
              " '/content/Number-Classifications/Images/train/468.png',\n",
              " '/content/Number-Classifications/Images/train/469.png',\n",
              " '/content/Number-Classifications/Images/train/470.png',\n",
              " '/content/Number-Classifications/Images/train/471.png',\n",
              " '/content/Number-Classifications/Images/train/472.png',\n",
              " '/content/Number-Classifications/Images/train/473.png',\n",
              " '/content/Number-Classifications/Images/train/474.png',\n",
              " '/content/Number-Classifications/Images/train/475.png',\n",
              " '/content/Number-Classifications/Images/train/476.png',\n",
              " '/content/Number-Classifications/Images/train/477.png',\n",
              " '/content/Number-Classifications/Images/train/478.png',\n",
              " '/content/Number-Classifications/Images/train/479.png',\n",
              " '/content/Number-Classifications/Images/train/480.png',\n",
              " '/content/Number-Classifications/Images/train/481.png',\n",
              " '/content/Number-Classifications/Images/train/482.png',\n",
              " '/content/Number-Classifications/Images/train/483.png',\n",
              " '/content/Number-Classifications/Images/train/484.png',\n",
              " '/content/Number-Classifications/Images/train/485.png',\n",
              " '/content/Number-Classifications/Images/train/486.png',\n",
              " '/content/Number-Classifications/Images/train/487.png',\n",
              " '/content/Number-Classifications/Images/train/488.png',\n",
              " '/content/Number-Classifications/Images/train/489.png',\n",
              " '/content/Number-Classifications/Images/train/490.png',\n",
              " '/content/Number-Classifications/Images/train/491.png',\n",
              " '/content/Number-Classifications/Images/train/492.png',\n",
              " '/content/Number-Classifications/Images/train/493.png',\n",
              " '/content/Number-Classifications/Images/train/494.png',\n",
              " '/content/Number-Classifications/Images/train/495.png',\n",
              " '/content/Number-Classifications/Images/train/496.png',\n",
              " '/content/Number-Classifications/Images/train/497.png',\n",
              " '/content/Number-Classifications/Images/train/498.png',\n",
              " '/content/Number-Classifications/Images/train/499.png',\n",
              " '/content/Number-Classifications/Images/train/500.png',\n",
              " '/content/Number-Classifications/Images/train/501.png',\n",
              " '/content/Number-Classifications/Images/train/502.png',\n",
              " '/content/Number-Classifications/Images/train/503.png',\n",
              " '/content/Number-Classifications/Images/train/504.png',\n",
              " '/content/Number-Classifications/Images/train/505.png',\n",
              " '/content/Number-Classifications/Images/train/506.png',\n",
              " '/content/Number-Classifications/Images/train/507.png',\n",
              " '/content/Number-Classifications/Images/train/508.png',\n",
              " '/content/Number-Classifications/Images/train/509.png',\n",
              " '/content/Number-Classifications/Images/train/510.png',\n",
              " '/content/Number-Classifications/Images/train/511.png',\n",
              " '/content/Number-Classifications/Images/train/512.png',\n",
              " '/content/Number-Classifications/Images/train/513.png',\n",
              " '/content/Number-Classifications/Images/train/514.png',\n",
              " '/content/Number-Classifications/Images/train/515.png',\n",
              " '/content/Number-Classifications/Images/train/516.png',\n",
              " '/content/Number-Classifications/Images/train/517.png',\n",
              " '/content/Number-Classifications/Images/train/518.png',\n",
              " '/content/Number-Classifications/Images/train/519.png',\n",
              " '/content/Number-Classifications/Images/train/520.png',\n",
              " '/content/Number-Classifications/Images/train/521.png',\n",
              " '/content/Number-Classifications/Images/train/522.png',\n",
              " '/content/Number-Classifications/Images/train/523.png',\n",
              " '/content/Number-Classifications/Images/train/524.png',\n",
              " '/content/Number-Classifications/Images/train/525.png',\n",
              " '/content/Number-Classifications/Images/train/526.png',\n",
              " '/content/Number-Classifications/Images/train/527.png',\n",
              " '/content/Number-Classifications/Images/train/528.png',\n",
              " '/content/Number-Classifications/Images/train/529.png',\n",
              " '/content/Number-Classifications/Images/train/530.png',\n",
              " '/content/Number-Classifications/Images/train/531.png',\n",
              " '/content/Number-Classifications/Images/train/532.png',\n",
              " '/content/Number-Classifications/Images/train/533.png',\n",
              " '/content/Number-Classifications/Images/train/534.png',\n",
              " '/content/Number-Classifications/Images/train/535.png',\n",
              " '/content/Number-Classifications/Images/train/536.png',\n",
              " '/content/Number-Classifications/Images/train/537.png',\n",
              " '/content/Number-Classifications/Images/train/538.png',\n",
              " '/content/Number-Classifications/Images/train/539.png',\n",
              " '/content/Number-Classifications/Images/train/540.png',\n",
              " '/content/Number-Classifications/Images/train/541.png',\n",
              " '/content/Number-Classifications/Images/train/542.png',\n",
              " '/content/Number-Classifications/Images/train/543.png',\n",
              " '/content/Number-Classifications/Images/train/544.png',\n",
              " '/content/Number-Classifications/Images/train/545.png',\n",
              " '/content/Number-Classifications/Images/train/546.png',\n",
              " '/content/Number-Classifications/Images/train/547.png',\n",
              " '/content/Number-Classifications/Images/train/548.png',\n",
              " '/content/Number-Classifications/Images/train/549.png',\n",
              " '/content/Number-Classifications/Images/train/550.png',\n",
              " '/content/Number-Classifications/Images/train/551.png',\n",
              " '/content/Number-Classifications/Images/train/552.png',\n",
              " '/content/Number-Classifications/Images/train/553.png',\n",
              " '/content/Number-Classifications/Images/train/554.png',\n",
              " '/content/Number-Classifications/Images/train/555.png',\n",
              " '/content/Number-Classifications/Images/train/556.png',\n",
              " '/content/Number-Classifications/Images/train/557.png',\n",
              " '/content/Number-Classifications/Images/train/558.png',\n",
              " '/content/Number-Classifications/Images/train/559.png',\n",
              " '/content/Number-Classifications/Images/train/560.png',\n",
              " '/content/Number-Classifications/Images/train/561.png',\n",
              " '/content/Number-Classifications/Images/train/562.png',\n",
              " '/content/Number-Classifications/Images/train/563.png',\n",
              " '/content/Number-Classifications/Images/train/564.png',\n",
              " '/content/Number-Classifications/Images/train/565.png',\n",
              " '/content/Number-Classifications/Images/train/566.png',\n",
              " '/content/Number-Classifications/Images/train/567.png',\n",
              " '/content/Number-Classifications/Images/train/568.png',\n",
              " '/content/Number-Classifications/Images/train/569.png',\n",
              " '/content/Number-Classifications/Images/train/570.png',\n",
              " '/content/Number-Classifications/Images/train/571.png',\n",
              " '/content/Number-Classifications/Images/train/572.png',\n",
              " '/content/Number-Classifications/Images/train/573.png',\n",
              " '/content/Number-Classifications/Images/train/574.png',\n",
              " '/content/Number-Classifications/Images/train/575.png',\n",
              " '/content/Number-Classifications/Images/train/576.png',\n",
              " '/content/Number-Classifications/Images/train/577.png',\n",
              " '/content/Number-Classifications/Images/train/578.png',\n",
              " '/content/Number-Classifications/Images/train/579.png',\n",
              " '/content/Number-Classifications/Images/train/580.png',\n",
              " '/content/Number-Classifications/Images/train/581.png',\n",
              " '/content/Number-Classifications/Images/train/582.png',\n",
              " '/content/Number-Classifications/Images/train/583.png',\n",
              " '/content/Number-Classifications/Images/train/584.png',\n",
              " '/content/Number-Classifications/Images/train/585.png',\n",
              " '/content/Number-Classifications/Images/train/586.png',\n",
              " '/content/Number-Classifications/Images/train/587.png',\n",
              " '/content/Number-Classifications/Images/train/588.png',\n",
              " '/content/Number-Classifications/Images/train/589.png',\n",
              " '/content/Number-Classifications/Images/train/590.png',\n",
              " '/content/Number-Classifications/Images/train/591.png',\n",
              " '/content/Number-Classifications/Images/train/592.png',\n",
              " '/content/Number-Classifications/Images/train/593.png',\n",
              " '/content/Number-Classifications/Images/train/594.png',\n",
              " '/content/Number-Classifications/Images/train/595.png',\n",
              " '/content/Number-Classifications/Images/train/596.png',\n",
              " '/content/Number-Classifications/Images/train/597.png',\n",
              " '/content/Number-Classifications/Images/train/598.png',\n",
              " '/content/Number-Classifications/Images/train/599.png',\n",
              " '/content/Number-Classifications/Images/train/600.png',\n",
              " '/content/Number-Classifications/Images/train/601.png',\n",
              " '/content/Number-Classifications/Images/train/602.png',\n",
              " '/content/Number-Classifications/Images/train/603.png',\n",
              " '/content/Number-Classifications/Images/train/604.png',\n",
              " '/content/Number-Classifications/Images/train/605.png',\n",
              " '/content/Number-Classifications/Images/train/606.png',\n",
              " '/content/Number-Classifications/Images/train/607.png',\n",
              " '/content/Number-Classifications/Images/train/608.png',\n",
              " '/content/Number-Classifications/Images/train/609.png',\n",
              " '/content/Number-Classifications/Images/train/610.png',\n",
              " '/content/Number-Classifications/Images/train/611.png',\n",
              " '/content/Number-Classifications/Images/train/612.png',\n",
              " '/content/Number-Classifications/Images/train/613.png',\n",
              " '/content/Number-Classifications/Images/train/614.png',\n",
              " '/content/Number-Classifications/Images/train/615.png',\n",
              " '/content/Number-Classifications/Images/train/616.png',\n",
              " '/content/Number-Classifications/Images/train/617.png',\n",
              " '/content/Number-Classifications/Images/train/618.png',\n",
              " '/content/Number-Classifications/Images/train/619.png',\n",
              " '/content/Number-Classifications/Images/train/620.png',\n",
              " '/content/Number-Classifications/Images/train/621.png',\n",
              " '/content/Number-Classifications/Images/train/622.png',\n",
              " '/content/Number-Classifications/Images/train/623.png',\n",
              " '/content/Number-Classifications/Images/train/624.png',\n",
              " '/content/Number-Classifications/Images/train/625.png',\n",
              " '/content/Number-Classifications/Images/train/626.png',\n",
              " '/content/Number-Classifications/Images/train/627.png',\n",
              " '/content/Number-Classifications/Images/train/628.png',\n",
              " '/content/Number-Classifications/Images/train/629.png',\n",
              " '/content/Number-Classifications/Images/train/630.png',\n",
              " '/content/Number-Classifications/Images/train/631.png',\n",
              " '/content/Number-Classifications/Images/train/632.png',\n",
              " '/content/Number-Classifications/Images/train/633.png',\n",
              " '/content/Number-Classifications/Images/train/634.png',\n",
              " '/content/Number-Classifications/Images/train/635.png',\n",
              " '/content/Number-Classifications/Images/train/636.png',\n",
              " '/content/Number-Classifications/Images/train/637.png',\n",
              " '/content/Number-Classifications/Images/train/638.png',\n",
              " '/content/Number-Classifications/Images/train/639.png',\n",
              " '/content/Number-Classifications/Images/train/640.png',\n",
              " '/content/Number-Classifications/Images/train/641.png',\n",
              " '/content/Number-Classifications/Images/train/642.png',\n",
              " '/content/Number-Classifications/Images/train/643.png',\n",
              " '/content/Number-Classifications/Images/train/644.png',\n",
              " '/content/Number-Classifications/Images/train/645.png',\n",
              " '/content/Number-Classifications/Images/train/646.png',\n",
              " '/content/Number-Classifications/Images/train/647.png',\n",
              " '/content/Number-Classifications/Images/train/648.png',\n",
              " '/content/Number-Classifications/Images/train/649.png',\n",
              " '/content/Number-Classifications/Images/train/650.png',\n",
              " '/content/Number-Classifications/Images/train/651.png',\n",
              " '/content/Number-Classifications/Images/train/652.png',\n",
              " '/content/Number-Classifications/Images/train/653.png',\n",
              " '/content/Number-Classifications/Images/train/654.png',\n",
              " '/content/Number-Classifications/Images/train/655.png',\n",
              " '/content/Number-Classifications/Images/train/656.png',\n",
              " '/content/Number-Classifications/Images/train/657.png',\n",
              " '/content/Number-Classifications/Images/train/658.png',\n",
              " '/content/Number-Classifications/Images/train/659.png',\n",
              " '/content/Number-Classifications/Images/train/660.png',\n",
              " '/content/Number-Classifications/Images/train/661.png',\n",
              " '/content/Number-Classifications/Images/train/662.png',\n",
              " '/content/Number-Classifications/Images/train/663.png',\n",
              " '/content/Number-Classifications/Images/train/664.png',\n",
              " '/content/Number-Classifications/Images/train/665.png',\n",
              " '/content/Number-Classifications/Images/train/666.png',\n",
              " '/content/Number-Classifications/Images/train/667.png',\n",
              " '/content/Number-Classifications/Images/train/668.png',\n",
              " '/content/Number-Classifications/Images/train/669.png',\n",
              " '/content/Number-Classifications/Images/train/670.png',\n",
              " '/content/Number-Classifications/Images/train/671.png',\n",
              " '/content/Number-Classifications/Images/train/672.png',\n",
              " '/content/Number-Classifications/Images/train/673.png',\n",
              " '/content/Number-Classifications/Images/train/674.png',\n",
              " '/content/Number-Classifications/Images/train/675.png',\n",
              " '/content/Number-Classifications/Images/train/676.png',\n",
              " '/content/Number-Classifications/Images/train/677.png',\n",
              " '/content/Number-Classifications/Images/train/678.png',\n",
              " '/content/Number-Classifications/Images/train/679.png',\n",
              " '/content/Number-Classifications/Images/train/680.png',\n",
              " '/content/Number-Classifications/Images/train/681.png',\n",
              " '/content/Number-Classifications/Images/train/682.png',\n",
              " '/content/Number-Classifications/Images/train/683.png',\n",
              " '/content/Number-Classifications/Images/train/684.png',\n",
              " '/content/Number-Classifications/Images/train/685.png',\n",
              " '/content/Number-Classifications/Images/train/686.png',\n",
              " '/content/Number-Classifications/Images/train/687.png',\n",
              " '/content/Number-Classifications/Images/train/688.png',\n",
              " '/content/Number-Classifications/Images/train/689.png',\n",
              " '/content/Number-Classifications/Images/train/690.png',\n",
              " '/content/Number-Classifications/Images/train/691.png',\n",
              " '/content/Number-Classifications/Images/train/692.png',\n",
              " '/content/Number-Classifications/Images/train/693.png',\n",
              " '/content/Number-Classifications/Images/train/694.png',\n",
              " '/content/Number-Classifications/Images/train/695.png',\n",
              " '/content/Number-Classifications/Images/train/696.png',\n",
              " '/content/Number-Classifications/Images/train/697.png',\n",
              " '/content/Number-Classifications/Images/train/698.png',\n",
              " '/content/Number-Classifications/Images/train/699.png',\n",
              " '/content/Number-Classifications/Images/train/700.png',\n",
              " '/content/Number-Classifications/Images/train/701.png',\n",
              " '/content/Number-Classifications/Images/train/702.png',\n",
              " '/content/Number-Classifications/Images/train/703.png',\n",
              " '/content/Number-Classifications/Images/train/704.png',\n",
              " '/content/Number-Classifications/Images/train/705.png',\n",
              " '/content/Number-Classifications/Images/train/706.png',\n",
              " '/content/Number-Classifications/Images/train/707.png',\n",
              " '/content/Number-Classifications/Images/train/708.png',\n",
              " '/content/Number-Classifications/Images/train/709.png',\n",
              " '/content/Number-Classifications/Images/train/710.png',\n",
              " '/content/Number-Classifications/Images/train/711.png',\n",
              " '/content/Number-Classifications/Images/train/712.png',\n",
              " '/content/Number-Classifications/Images/train/713.png',\n",
              " '/content/Number-Classifications/Images/train/714.png',\n",
              " '/content/Number-Classifications/Images/train/715.png',\n",
              " '/content/Number-Classifications/Images/train/716.png',\n",
              " '/content/Number-Classifications/Images/train/717.png',\n",
              " '/content/Number-Classifications/Images/train/718.png',\n",
              " '/content/Number-Classifications/Images/train/719.png',\n",
              " '/content/Number-Classifications/Images/train/720.png',\n",
              " '/content/Number-Classifications/Images/train/721.png',\n",
              " '/content/Number-Classifications/Images/train/722.png',\n",
              " '/content/Number-Classifications/Images/train/723.png',\n",
              " '/content/Number-Classifications/Images/train/724.png',\n",
              " '/content/Number-Classifications/Images/train/725.png',\n",
              " '/content/Number-Classifications/Images/train/726.png',\n",
              " '/content/Number-Classifications/Images/train/727.png',\n",
              " '/content/Number-Classifications/Images/train/728.png',\n",
              " '/content/Number-Classifications/Images/train/729.png',\n",
              " '/content/Number-Classifications/Images/train/730.png',\n",
              " '/content/Number-Classifications/Images/train/731.png',\n",
              " '/content/Number-Classifications/Images/train/732.png',\n",
              " '/content/Number-Classifications/Images/train/733.png',\n",
              " '/content/Number-Classifications/Images/train/734.png',\n",
              " '/content/Number-Classifications/Images/train/735.png',\n",
              " '/content/Number-Classifications/Images/train/736.png',\n",
              " '/content/Number-Classifications/Images/train/737.png',\n",
              " '/content/Number-Classifications/Images/train/738.png',\n",
              " '/content/Number-Classifications/Images/train/739.png',\n",
              " '/content/Number-Classifications/Images/train/740.png',\n",
              " '/content/Number-Classifications/Images/train/741.png',\n",
              " '/content/Number-Classifications/Images/train/742.png',\n",
              " '/content/Number-Classifications/Images/train/743.png',\n",
              " '/content/Number-Classifications/Images/train/744.png',\n",
              " '/content/Number-Classifications/Images/train/745.png',\n",
              " '/content/Number-Classifications/Images/train/746.png',\n",
              " '/content/Number-Classifications/Images/train/747.png',\n",
              " '/content/Number-Classifications/Images/train/748.png',\n",
              " '/content/Number-Classifications/Images/train/749.png',\n",
              " '/content/Number-Classifications/Images/train/750.png',\n",
              " '/content/Number-Classifications/Images/train/751.png',\n",
              " '/content/Number-Classifications/Images/train/752.png',\n",
              " '/content/Number-Classifications/Images/train/753.png',\n",
              " '/content/Number-Classifications/Images/train/754.png',\n",
              " '/content/Number-Classifications/Images/train/755.png',\n",
              " '/content/Number-Classifications/Images/train/756.png',\n",
              " '/content/Number-Classifications/Images/train/757.png',\n",
              " '/content/Number-Classifications/Images/train/758.png',\n",
              " '/content/Number-Classifications/Images/train/759.png',\n",
              " '/content/Number-Classifications/Images/train/760.png',\n",
              " '/content/Number-Classifications/Images/train/761.png',\n",
              " '/content/Number-Classifications/Images/train/762.png',\n",
              " '/content/Number-Classifications/Images/train/763.png',\n",
              " '/content/Number-Classifications/Images/train/764.png',\n",
              " '/content/Number-Classifications/Images/train/765.png',\n",
              " '/content/Number-Classifications/Images/train/766.png',\n",
              " '/content/Number-Classifications/Images/train/767.png',\n",
              " '/content/Number-Classifications/Images/train/768.png',\n",
              " '/content/Number-Classifications/Images/train/769.png',\n",
              " '/content/Number-Classifications/Images/train/770.png',\n",
              " '/content/Number-Classifications/Images/train/771.png',\n",
              " '/content/Number-Classifications/Images/train/772.png',\n",
              " '/content/Number-Classifications/Images/train/773.png',\n",
              " '/content/Number-Classifications/Images/train/774.png',\n",
              " '/content/Number-Classifications/Images/train/775.png',\n",
              " '/content/Number-Classifications/Images/train/776.png',\n",
              " '/content/Number-Classifications/Images/train/777.png',\n",
              " '/content/Number-Classifications/Images/train/778.png',\n",
              " '/content/Number-Classifications/Images/train/779.png',\n",
              " '/content/Number-Classifications/Images/train/780.png',\n",
              " '/content/Number-Classifications/Images/train/781.png',\n",
              " '/content/Number-Classifications/Images/train/782.png',\n",
              " '/content/Number-Classifications/Images/train/783.png',\n",
              " '/content/Number-Classifications/Images/train/784.png',\n",
              " '/content/Number-Classifications/Images/train/785.png',\n",
              " '/content/Number-Classifications/Images/train/786.png',\n",
              " '/content/Number-Classifications/Images/train/787.png',\n",
              " '/content/Number-Classifications/Images/train/788.png',\n",
              " '/content/Number-Classifications/Images/train/789.png',\n",
              " '/content/Number-Classifications/Images/train/790.png',\n",
              " '/content/Number-Classifications/Images/train/791.png',\n",
              " '/content/Number-Classifications/Images/train/792.png',\n",
              " '/content/Number-Classifications/Images/train/793.png',\n",
              " '/content/Number-Classifications/Images/train/794.png',\n",
              " '/content/Number-Classifications/Images/train/795.png',\n",
              " '/content/Number-Classifications/Images/train/796.png',\n",
              " '/content/Number-Classifications/Images/train/797.png',\n",
              " '/content/Number-Classifications/Images/train/798.png',\n",
              " '/content/Number-Classifications/Images/train/799.png',\n",
              " '/content/Number-Classifications/Images/train/800.png',\n",
              " '/content/Number-Classifications/Images/train/801.png',\n",
              " '/content/Number-Classifications/Images/train/802.png',\n",
              " '/content/Number-Classifications/Images/train/803.png',\n",
              " '/content/Number-Classifications/Images/train/804.png',\n",
              " '/content/Number-Classifications/Images/train/805.png',\n",
              " '/content/Number-Classifications/Images/train/806.png',\n",
              " '/content/Number-Classifications/Images/train/807.png',\n",
              " '/content/Number-Classifications/Images/train/808.png',\n",
              " '/content/Number-Classifications/Images/train/809.png',\n",
              " '/content/Number-Classifications/Images/train/810.png',\n",
              " '/content/Number-Classifications/Images/train/811.png',\n",
              " '/content/Number-Classifications/Images/train/812.png',\n",
              " '/content/Number-Classifications/Images/train/813.png',\n",
              " '/content/Number-Classifications/Images/train/814.png',\n",
              " '/content/Number-Classifications/Images/train/815.png',\n",
              " '/content/Number-Classifications/Images/train/816.png',\n",
              " '/content/Number-Classifications/Images/train/817.png',\n",
              " '/content/Number-Classifications/Images/train/818.png',\n",
              " '/content/Number-Classifications/Images/train/819.png',\n",
              " '/content/Number-Classifications/Images/train/820.png',\n",
              " '/content/Number-Classifications/Images/train/821.png',\n",
              " '/content/Number-Classifications/Images/train/822.png',\n",
              " '/content/Number-Classifications/Images/train/823.png',\n",
              " '/content/Number-Classifications/Images/train/824.png',\n",
              " '/content/Number-Classifications/Images/train/825.png',\n",
              " '/content/Number-Classifications/Images/train/826.png',\n",
              " '/content/Number-Classifications/Images/train/827.png',\n",
              " '/content/Number-Classifications/Images/train/828.png',\n",
              " '/content/Number-Classifications/Images/train/829.png',\n",
              " '/content/Number-Classifications/Images/train/830.png',\n",
              " '/content/Number-Classifications/Images/train/831.png',\n",
              " '/content/Number-Classifications/Images/train/832.png',\n",
              " '/content/Number-Classifications/Images/train/833.png',\n",
              " '/content/Number-Classifications/Images/train/834.png',\n",
              " '/content/Number-Classifications/Images/train/835.png',\n",
              " '/content/Number-Classifications/Images/train/836.png',\n",
              " '/content/Number-Classifications/Images/train/837.png',\n",
              " '/content/Number-Classifications/Images/train/838.png',\n",
              " '/content/Number-Classifications/Images/train/839.png',\n",
              " '/content/Number-Classifications/Images/train/840.png',\n",
              " '/content/Number-Classifications/Images/train/841.png',\n",
              " '/content/Number-Classifications/Images/train/842.png',\n",
              " '/content/Number-Classifications/Images/train/843.png',\n",
              " '/content/Number-Classifications/Images/train/844.png',\n",
              " '/content/Number-Classifications/Images/train/845.png',\n",
              " '/content/Number-Classifications/Images/train/846.png',\n",
              " '/content/Number-Classifications/Images/train/847.png',\n",
              " '/content/Number-Classifications/Images/train/848.png',\n",
              " '/content/Number-Classifications/Images/train/849.png',\n",
              " '/content/Number-Classifications/Images/train/850.png',\n",
              " '/content/Number-Classifications/Images/train/851.png',\n",
              " '/content/Number-Classifications/Images/train/852.png',\n",
              " '/content/Number-Classifications/Images/train/853.png',\n",
              " '/content/Number-Classifications/Images/train/854.png',\n",
              " '/content/Number-Classifications/Images/train/855.png',\n",
              " '/content/Number-Classifications/Images/train/856.png',\n",
              " '/content/Number-Classifications/Images/train/857.png',\n",
              " '/content/Number-Classifications/Images/train/858.png',\n",
              " '/content/Number-Classifications/Images/train/859.png',\n",
              " '/content/Number-Classifications/Images/train/860.png',\n",
              " '/content/Number-Classifications/Images/train/861.png',\n",
              " '/content/Number-Classifications/Images/train/862.png',\n",
              " '/content/Number-Classifications/Images/train/863.png',\n",
              " '/content/Number-Classifications/Images/train/864.png',\n",
              " '/content/Number-Classifications/Images/train/865.png',\n",
              " '/content/Number-Classifications/Images/train/866.png',\n",
              " '/content/Number-Classifications/Images/train/867.png',\n",
              " '/content/Number-Classifications/Images/train/868.png',\n",
              " '/content/Number-Classifications/Images/train/869.png',\n",
              " '/content/Number-Classifications/Images/train/870.png',\n",
              " '/content/Number-Classifications/Images/train/871.png',\n",
              " '/content/Number-Classifications/Images/train/872.png',\n",
              " '/content/Number-Classifications/Images/train/873.png',\n",
              " '/content/Number-Classifications/Images/train/874.png',\n",
              " '/content/Number-Classifications/Images/train/875.png',\n",
              " '/content/Number-Classifications/Images/train/876.png',\n",
              " '/content/Number-Classifications/Images/train/877.png',\n",
              " '/content/Number-Classifications/Images/train/878.png',\n",
              " '/content/Number-Classifications/Images/train/879.png',\n",
              " '/content/Number-Classifications/Images/train/880.png',\n",
              " '/content/Number-Classifications/Images/train/881.png',\n",
              " '/content/Number-Classifications/Images/train/882.png',\n",
              " '/content/Number-Classifications/Images/train/883.png',\n",
              " '/content/Number-Classifications/Images/train/884.png',\n",
              " '/content/Number-Classifications/Images/train/885.png',\n",
              " '/content/Number-Classifications/Images/train/886.png',\n",
              " '/content/Number-Classifications/Images/train/887.png',\n",
              " '/content/Number-Classifications/Images/train/888.png',\n",
              " '/content/Number-Classifications/Images/train/889.png',\n",
              " '/content/Number-Classifications/Images/train/890.png',\n",
              " '/content/Number-Classifications/Images/train/891.png',\n",
              " '/content/Number-Classifications/Images/train/892.png',\n",
              " '/content/Number-Classifications/Images/train/893.png',\n",
              " '/content/Number-Classifications/Images/train/894.png',\n",
              " '/content/Number-Classifications/Images/train/895.png',\n",
              " '/content/Number-Classifications/Images/train/896.png',\n",
              " '/content/Number-Classifications/Images/train/897.png',\n",
              " '/content/Number-Classifications/Images/train/898.png',\n",
              " '/content/Number-Classifications/Images/train/899.png',\n",
              " '/content/Number-Classifications/Images/train/900.png',\n",
              " '/content/Number-Classifications/Images/train/901.png',\n",
              " '/content/Number-Classifications/Images/train/902.png',\n",
              " '/content/Number-Classifications/Images/train/903.png',\n",
              " '/content/Number-Classifications/Images/train/904.png',\n",
              " '/content/Number-Classifications/Images/train/905.png',\n",
              " '/content/Number-Classifications/Images/train/906.png',\n",
              " '/content/Number-Classifications/Images/train/907.png',\n",
              " '/content/Number-Classifications/Images/train/908.png',\n",
              " '/content/Number-Classifications/Images/train/909.png',\n",
              " '/content/Number-Classifications/Images/train/910.png',\n",
              " '/content/Number-Classifications/Images/train/911.png',\n",
              " '/content/Number-Classifications/Images/train/912.png',\n",
              " '/content/Number-Classifications/Images/train/913.png',\n",
              " '/content/Number-Classifications/Images/train/914.png',\n",
              " '/content/Number-Classifications/Images/train/915.png',\n",
              " '/content/Number-Classifications/Images/train/916.png',\n",
              " '/content/Number-Classifications/Images/train/917.png',\n",
              " '/content/Number-Classifications/Images/train/918.png',\n",
              " '/content/Number-Classifications/Images/train/919.png',\n",
              " '/content/Number-Classifications/Images/train/920.png',\n",
              " '/content/Number-Classifications/Images/train/921.png',\n",
              " '/content/Number-Classifications/Images/train/922.png',\n",
              " '/content/Number-Classifications/Images/train/923.png',\n",
              " '/content/Number-Classifications/Images/train/924.png',\n",
              " '/content/Number-Classifications/Images/train/925.png',\n",
              " '/content/Number-Classifications/Images/train/926.png',\n",
              " '/content/Number-Classifications/Images/train/927.png',\n",
              " '/content/Number-Classifications/Images/train/928.png',\n",
              " '/content/Number-Classifications/Images/train/929.png',\n",
              " '/content/Number-Classifications/Images/train/930.png',\n",
              " '/content/Number-Classifications/Images/train/931.png',\n",
              " '/content/Number-Classifications/Images/train/932.png',\n",
              " '/content/Number-Classifications/Images/train/933.png',\n",
              " '/content/Number-Classifications/Images/train/934.png',\n",
              " '/content/Number-Classifications/Images/train/935.png',\n",
              " '/content/Number-Classifications/Images/train/936.png',\n",
              " '/content/Number-Classifications/Images/train/937.png',\n",
              " '/content/Number-Classifications/Images/train/938.png',\n",
              " '/content/Number-Classifications/Images/train/939.png',\n",
              " '/content/Number-Classifications/Images/train/940.png',\n",
              " '/content/Number-Classifications/Images/train/941.png',\n",
              " '/content/Number-Classifications/Images/train/942.png',\n",
              " '/content/Number-Classifications/Images/train/943.png',\n",
              " '/content/Number-Classifications/Images/train/944.png',\n",
              " '/content/Number-Classifications/Images/train/945.png',\n",
              " '/content/Number-Classifications/Images/train/946.png',\n",
              " '/content/Number-Classifications/Images/train/947.png',\n",
              " '/content/Number-Classifications/Images/train/948.png',\n",
              " '/content/Number-Classifications/Images/train/949.png',\n",
              " '/content/Number-Classifications/Images/train/950.png',\n",
              " '/content/Number-Classifications/Images/train/951.png',\n",
              " '/content/Number-Classifications/Images/train/952.png',\n",
              " '/content/Number-Classifications/Images/train/953.png',\n",
              " '/content/Number-Classifications/Images/train/954.png',\n",
              " '/content/Number-Classifications/Images/train/955.png',\n",
              " '/content/Number-Classifications/Images/train/956.png',\n",
              " '/content/Number-Classifications/Images/train/957.png',\n",
              " '/content/Number-Classifications/Images/train/958.png',\n",
              " '/content/Number-Classifications/Images/train/959.png',\n",
              " '/content/Number-Classifications/Images/train/960.png',\n",
              " '/content/Number-Classifications/Images/train/961.png',\n",
              " '/content/Number-Classifications/Images/train/962.png',\n",
              " '/content/Number-Classifications/Images/train/963.png',\n",
              " '/content/Number-Classifications/Images/train/964.png',\n",
              " '/content/Number-Classifications/Images/train/965.png',\n",
              " '/content/Number-Classifications/Images/train/966.png',\n",
              " '/content/Number-Classifications/Images/train/967.png',\n",
              " '/content/Number-Classifications/Images/train/968.png',\n",
              " '/content/Number-Classifications/Images/train/969.png',\n",
              " '/content/Number-Classifications/Images/train/970.png',\n",
              " '/content/Number-Classifications/Images/train/971.png',\n",
              " '/content/Number-Classifications/Images/train/972.png',\n",
              " '/content/Number-Classifications/Images/train/973.png',\n",
              " '/content/Number-Classifications/Images/train/974.png',\n",
              " '/content/Number-Classifications/Images/train/975.png',\n",
              " '/content/Number-Classifications/Images/train/976.png',\n",
              " '/content/Number-Classifications/Images/train/977.png',\n",
              " '/content/Number-Classifications/Images/train/978.png',\n",
              " '/content/Number-Classifications/Images/train/979.png',\n",
              " '/content/Number-Classifications/Images/train/980.png',\n",
              " '/content/Number-Classifications/Images/train/981.png',\n",
              " '/content/Number-Classifications/Images/train/982.png',\n",
              " '/content/Number-Classifications/Images/train/983.png',\n",
              " '/content/Number-Classifications/Images/train/984.png',\n",
              " '/content/Number-Classifications/Images/train/985.png',\n",
              " '/content/Number-Classifications/Images/train/986.png',\n",
              " '/content/Number-Classifications/Images/train/987.png',\n",
              " '/content/Number-Classifications/Images/train/988.png',\n",
              " '/content/Number-Classifications/Images/train/989.png',\n",
              " '/content/Number-Classifications/Images/train/990.png',\n",
              " '/content/Number-Classifications/Images/train/991.png',\n",
              " '/content/Number-Classifications/Images/train/992.png',\n",
              " '/content/Number-Classifications/Images/train/993.png',\n",
              " '/content/Number-Classifications/Images/train/994.png',\n",
              " '/content/Number-Classifications/Images/train/995.png',\n",
              " '/content/Number-Classifications/Images/train/996.png',\n",
              " '/content/Number-Classifications/Images/train/997.png',\n",
              " '/content/Number-Classifications/Images/train/998.png',\n",
              " '/content/Number-Classifications/Images/train/999.png',\n",
              " ...]"
            ]
          },
          "metadata": {
            "tags": []
          },
          "execution_count": 39
        }
      ]
    },
    {
      "cell_type": "code",
      "metadata": {
        "id": "GXFAP03yPfay",
        "colab_type": "code",
        "colab": {}
      },
      "source": [
        "y=catg(train_data['label'],10)"
      ],
      "execution_count": 0,
      "outputs": []
    },
    {
      "cell_type": "code",
      "metadata": {
        "id": "h_m4mU_qQaR6",
        "colab_type": "code",
        "outputId": "8e20082a-dc8a-4e46-b4e7-ec6cbc2f618a",
        "colab": {
          "base_uri": "https://localhost:8080/",
          "height": 34
        }
      },
      "source": [
        "type(y)"
      ],
      "execution_count": 33,
      "outputs": [
        {
          "output_type": "execute_result",
          "data": {
            "text/plain": [
              "numpy.ndarray"
            ]
          },
          "metadata": {
            "tags": []
          },
          "execution_count": 33
        }
      ]
    },
    {
      "cell_type": "code",
      "metadata": {
        "id": "kAxC25NBQ1CR",
        "colab_type": "code",
        "outputId": "848bb1ea-e39c-4466-a012-360fd8a94771",
        "colab": {
          "base_uri": "https://localhost:8080/",
          "height": 34
        }
      },
      "source": [
        "y.shape"
      ],
      "execution_count": 34,
      "outputs": [
        {
          "output_type": "execute_result",
          "data": {
            "text/plain": [
              "(49000, 10)"
            ]
          },
          "metadata": {
            "tags": []
          },
          "execution_count": 34
        }
      ]
    },
    {
      "cell_type": "code",
      "metadata": {
        "id": "kTx3dNOOQ4GE",
        "colab_type": "code",
        "outputId": "b227a6fd-9347-4d2c-8e4a-185f1e0a7f22",
        "colab": {
          "base_uri": "https://localhost:8080/",
          "height": 136
        }
      },
      "source": [
        "y"
      ],
      "execution_count": 35,
      "outputs": [
        {
          "output_type": "execute_result",
          "data": {
            "text/plain": [
              "array([[0., 0., 0., ..., 0., 0., 0.],\n",
              "       [0., 0., 0., ..., 0., 0., 1.],\n",
              "       [0., 1., 0., ..., 0., 0., 0.],\n",
              "       ...,\n",
              "       [0., 0., 0., ..., 0., 0., 1.],\n",
              "       [0., 0., 0., ..., 0., 0., 0.],\n",
              "       [1., 0., 0., ..., 0., 0., 0.]], dtype=float32)"
            ]
          },
          "metadata": {
            "tags": []
          },
          "execution_count": 35
        }
      ]
    },
    {
      "cell_type": "code",
      "metadata": {
        "id": "saf4Nfp8Q9bD",
        "colab_type": "code",
        "colab": {}
      },
      "source": [
        "imgs = [load_img(img_path, target_size=(img_height, img_width)) for img_path in img_paths]\n",
        "#imgs\n",
        "img_array = np.array([img_to_array(img) for img in imgs])\n",
        "x = preprocess_input(img_array)"
      ],
      "execution_count": 0,
      "outputs": []
    },
    {
      "cell_type": "code",
      "metadata": {
        "id": "46JcnraySoIJ",
        "colab_type": "code",
        "colab": {
          "base_uri": "https://localhost:8080/",
          "height": 34
        },
        "outputId": "66a0d28c-b990-4547-a59d-c6a8c0e540c0"
      },
      "source": [
        "\n",
        "x.shape\n"
      ],
      "execution_count": 49,
      "outputs": [
        {
          "output_type": "execute_result",
          "data": {
            "text/plain": [
              "(49000, 32, 32, 3)"
            ]
          },
          "metadata": {
            "tags": []
          },
          "execution_count": 49
        }
      ]
    },
    {
      "cell_type": "code",
      "metadata": {
        "id": "Q3YXGKinWCqa",
        "colab_type": "code",
        "colab": {}
      },
      "source": [
        "#Keras layers\n",
        "model= Sequential()\n",
        "model.add(Conv2D(20,kernel_size=(3,3),activation='relu',input_shape=(img_width,img_height,3)))\n",
        "model.add(Dropout(0.2))\n",
        "model.add(Conv2D(20,kernel_size=(3,3),activation='relu'))\n",
        "model.add(Dropout(0.2))\n",
        "model.add(Conv2D(20,kernel_size=(3,3),activation='relu'))\n",
        "model.add(Dropout(0.2))\n",
        "model.add(Flatten())\n",
        "model.add(Dense(128))\n",
        "\n",
        "#model.add(Flatten())\n",
        "model.add(Dense(10,activation='softmax'))\n"
      ],
      "execution_count": 0,
      "outputs": []
    },
    {
      "cell_type": "code",
      "metadata": {
        "id": "R6JIeKmwaSFU",
        "colab_type": "code",
        "colab": {
          "base_uri": "https://localhost:8080/",
          "height": 459
        },
        "outputId": "18de4026-218c-4f92-fc03-1e9fc9a05751"
      },
      "source": [
        "model.summary()"
      ],
      "execution_count": 59,
      "outputs": [
        {
          "output_type": "stream",
          "text": [
            "Model: \"sequential_3\"\n",
            "_________________________________________________________________\n",
            "Layer (type)                 Output Shape              Param #   \n",
            "=================================================================\n",
            "conv2d_7 (Conv2D)            (None, 30, 30, 20)        560       \n",
            "_________________________________________________________________\n",
            "dropout_5 (Dropout)          (None, 30, 30, 20)        0         \n",
            "_________________________________________________________________\n",
            "conv2d_8 (Conv2D)            (None, 28, 28, 20)        3620      \n",
            "_________________________________________________________________\n",
            "dropout_6 (Dropout)          (None, 28, 28, 20)        0         \n",
            "_________________________________________________________________\n",
            "conv2d_9 (Conv2D)            (None, 26, 26, 20)        3620      \n",
            "_________________________________________________________________\n",
            "dropout_7 (Dropout)          (None, 26, 26, 20)        0         \n",
            "_________________________________________________________________\n",
            "flatten_3 (Flatten)          (None, 13520)             0         \n",
            "_________________________________________________________________\n",
            "dense_1 (Dense)              (None, 128)               1730688   \n",
            "_________________________________________________________________\n",
            "dense_2 (Dense)              (None, 10)                1290      \n",
            "=================================================================\n",
            "Total params: 1,739,778\n",
            "Trainable params: 1,739,778\n",
            "Non-trainable params: 0\n",
            "_________________________________________________________________\n"
          ],
          "name": "stdout"
        }
      ]
    },
    {
      "cell_type": "code",
      "metadata": {
        "id": "PZ1vnGpqbunA",
        "colab_type": "code",
        "colab": {}
      },
      "source": [
        "model.compile(optimizer='rmsprop',loss='categorical_crossentropy',metrics=['accuracy'])"
      ],
      "execution_count": 0,
      "outputs": []
    },
    {
      "cell_type": "code",
      "metadata": {
        "id": "E1r5B4ljcqmL",
        "colab_type": "code",
        "colab": {
          "base_uri": "https://localhost:8080/",
          "height": 224
        },
        "outputId": "7d0dd363-cf26-4954-a743-15e4fa2f6a76"
      },
      "source": [
        "model.fit(x,y,batch_size=32,epochs=5,validation_split=0.2)\n"
      ],
      "execution_count": 63,
      "outputs": [
        {
          "output_type": "stream",
          "text": [
            "Epoch 1/5\n",
            "1225/1225 [==============================] - 139s 113ms/step - loss: 10.4759 - accuracy: 0.8591 - val_loss: 0.1384 - val_accuracy: 0.9596\n",
            "Epoch 2/5\n",
            "1225/1225 [==============================] - 138s 112ms/step - loss: 0.1668 - accuracy: 0.9539 - val_loss: 0.1048 - val_accuracy: 0.9692\n",
            "Epoch 3/5\n",
            "1225/1225 [==============================] - 140s 114ms/step - loss: 0.1260 - accuracy: 0.9640 - val_loss: 0.0888 - val_accuracy: 0.9737\n",
            "Epoch 4/5\n",
            "1225/1225 [==============================] - 138s 113ms/step - loss: 0.1095 - accuracy: 0.9683 - val_loss: 0.0911 - val_accuracy: 0.9737\n",
            "Epoch 5/5\n",
            "1225/1225 [==============================] - 138s 113ms/step - loss: 0.1006 - accuracy: 0.9703 - val_loss: 0.1043 - val_accuracy: 0.9692\n"
          ],
          "name": "stdout"
        },
        {
          "output_type": "execute_result",
          "data": {
            "text/plain": [
              "<tensorflow.python.keras.callbacks.History at 0x7ff2fb4b4240>"
            ]
          },
          "metadata": {
            "tags": []
          },
          "execution_count": 63
        }
      ]
    },
    {
      "cell_type": "code",
      "metadata": {
        "id": "_7eoQmnSc2N8",
        "colab_type": "code",
        "colab": {}
      },
      "source": [
        "train_paths='/content/Number-Classifications/Images/test'\n",
        "filenames=test_data['filename'].tolist()\n",
        "test_img_paths = [join(train_paths, filename) for filename in filenames]\n"
      ],
      "execution_count": 0,
      "outputs": []
    },
    {
      "cell_type": "code",
      "metadata": {
        "id": "ukk7lcpohodW",
        "colab_type": "code",
        "colab": {}
      },
      "source": [
        "imgs = [load_img(test_img_path, target_size=(img_height, img_width)) for test_img_path in test_img_paths]\n",
        "#imgs\n",
        "img_array = np.array([img_to_array(img) for img in imgs])\n",
        "x_test = preprocess_input(img_array)"
      ],
      "execution_count": 0,
      "outputs": []
    },
    {
      "cell_type": "code",
      "metadata": {
        "id": "TusAvzRkiIFF",
        "colab_type": "code",
        "colab": {
          "base_uri": "https://localhost:8080/",
          "height": 238
        },
        "outputId": "b3fa3870-6106-47f5-ef3b-12be9fa91cee"
      },
      "source": [
        "predicted=model.predict(x_test)\n",
        "predicted"
      ],
      "execution_count": 72,
      "outputs": [
        {
          "output_type": "execute_result",
          "data": {
            "text/plain": [
              "array([[1.77186799e-09, 1.77507820e-09, 1.80513506e-08, ...,\n",
              "        1.19457937e-07, 4.01403258e-06, 1.45239283e-05],\n",
              "       [9.64878261e-01, 1.45784952e-06, 3.40361260e-02, ...,\n",
              "        5.13121195e-05, 9.84892133e-04, 7.90333161e-06],\n",
              "       [9.95291863e-04, 2.48595242e-08, 2.10841885e-03, ...,\n",
              "        4.28418294e-02, 1.06927335e-04, 9.36747134e-01],\n",
              "       ...,\n",
              "       [9.46742948e-05, 2.22219517e-11, 3.47014613e-08, ...,\n",
              "        7.05392342e-11, 1.98415291e-04, 8.73713134e-07],\n",
              "       [4.49066846e-08, 2.34250362e-11, 1.02592445e-07, ...,\n",
              "        1.89570887e-10, 2.01523130e-06, 3.29445871e-09],\n",
              "       [4.23228613e-07, 3.70833355e-08, 9.99805152e-01, ...,\n",
              "        1.45209483e-10, 4.31674613e-10, 4.78672268e-10]], dtype=float32)"
            ]
          },
          "metadata": {
            "tags": []
          },
          "execution_count": 72
        }
      ]
    },
    {
      "cell_type": "code",
      "metadata": {
        "id": "VFucKJTmiUQM",
        "colab_type": "code",
        "colab": {
          "base_uri": "https://localhost:8080/",
          "height": 34
        },
        "outputId": "128c6ba5-e41a-492d-d5a7-88146650a365"
      },
      "source": [
        "predictions=np.argmax(predicted,axis=1)\n",
        "predictions\n"
      ],
      "execution_count": 73,
      "outputs": [
        {
          "output_type": "execute_result",
          "data": {
            "text/plain": [
              "array([4, 0, 9, ..., 6, 6, 2])"
            ]
          },
          "metadata": {
            "tags": []
          },
          "execution_count": 73
        }
      ]
    },
    {
      "cell_type": "code",
      "metadata": {
        "id": "pKnCs8kyikWS",
        "colab_type": "code",
        "colab": {
          "base_uri": "https://localhost:8080/",
          "height": 34
        },
        "outputId": "0b74bf30-e669-4b2a-e8a1-69d4211a4e6e"
      },
      "source": [
        "np.argmax(4.23228613e-07)"
      ],
      "execution_count": 81,
      "outputs": [
        {
          "output_type": "execute_result",
          "data": {
            "text/plain": [
              "0"
            ]
          },
          "metadata": {
            "tags": []
          },
          "execution_count": 81
        }
      ]
    },
    {
      "cell_type": "code",
      "metadata": {
        "id": "ZceRTNfCiwUl",
        "colab_type": "code",
        "colab": {}
      },
      "source": [
        "test_data.to_csv(\"Submission.csv\",columns=['filename'],index=False)"
      ],
      "execution_count": 0,
      "outputs": []
    },
    {
      "cell_type": "code",
      "metadata": {
        "id": "tqqNzBvMjfXX",
        "colab_type": "code",
        "colab": {}
      },
      "source": [
        "test_data['label']=predictions\n"
      ],
      "execution_count": 0,
      "outputs": []
    },
    {
      "cell_type": "code",
      "metadata": {
        "id": "azB_HdaVj1VA",
        "colab_type": "code",
        "colab": {}
      },
      "source": [
        "test_data.to_csv(\"Submission.csv\",columns=['filename','label'],index=False)"
      ],
      "execution_count": 0,
      "outputs": []
    },
    {
      "cell_type": "code",
      "metadata": {
        "id": "Fr6JoihTkBgu",
        "colab_type": "code",
        "colab": {
          "resources": {
            "http://localhost:8080/nbextensions/google.colab/files.js": {
              "data": "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",
              "ok": true,
              "headers": [
                [
                  "content-type",
                  "application/javascript"
                ]
              ],
              "status": 200,
              "status_text": ""
            }
          },
          "base_uri": "https://localhost:8080/",
          "height": 74
        },
        "outputId": "7d0ca388-3a4d-443c-b32b-5a94c78ea900"
      },
      "source": [
        "from google.colab import files\n",
        "uploaded = files.upload()"
      ],
      "execution_count": 119,
      "outputs": [
        {
          "output_type": "display_data",
          "data": {
            "text/html": [
              "\n",
              "     <input type=\"file\" id=\"files-ec13a716-b86e-4692-a4c8-f684d992d7c4\" name=\"files[]\" multiple disabled />\n",
              "     <output id=\"result-ec13a716-b86e-4692-a4c8-f684d992d7c4\">\n",
              "      Upload widget is only available when the cell has been executed in the\n",
              "      current browser session. Please rerun this cell to enable.\n",
              "      </output>\n",
              "      <script src=\"/nbextensions/google.colab/files.js\"></script> "
            ],
            "text/plain": [
              "<IPython.core.display.HTML object>"
            ]
          },
          "metadata": {
            "tags": []
          }
        },
        {
          "output_type": "stream",
          "text": [
            "Saving t6.jpg to t6.jpg\n"
          ],
          "name": "stdout"
        }
      ]
    },
    {
      "cell_type": "code",
      "metadata": {
        "id": "59L2AtAjlnkx",
        "colab_type": "code",
        "colab": {
          "base_uri": "https://localhost:8080/",
          "height": 283
        },
        "outputId": "4a29ac43-34a3-448b-9bd1-320d76fd080e"
      },
      "source": [
        "from tensorflow.keras.preprocessing import image\n",
        "img = image.load_img('/content/Number-Classifications/Selftest/t6.jpg', target_size=(img_width, img_height, 3))\n",
        "plt.imshow(img)\n",
        "img = image.img_to_array(img)\n",
        "#img = img/255.0\n",
        "\n",
        "img = img.reshape(1, img_width, img_height, 3)\n",
        "#classes = bridge_df.columns[2:]\n",
        "#data.columns\n",
        "#print(classes)\n",
        "y_prob = model.predict(img)\n",
        "\n",
        "result = y_prob[0]\n",
        "#print(\"result is\",result)\n",
        "  #print(result)\n",
        "  #Food', 'misc', 'Attire', 'Decorationandsignage'\n",
        "answer = np.argmax(result)\n",
        "print(\"The Letter/Number is : \",answer)"
      ],
      "execution_count": 122,
      "outputs": [
        {
          "output_type": "stream",
          "text": [
            "The Letter/Number is :  6\n"
          ],
          "name": "stdout"
        },
        {
          "output_type": "display_data",
          "data": {
            "image/png": "[encoded data removed]",
            "text/plain": [
              "<Figure size 432x288 with 1 Axes>"
            ]
          },
          "metadata": {
            "tags": []
          }
        }
      ]
    },
    {
      "cell_type": "code",
      "metadata": {
        "id": "dwe-UGxdonST",
        "colab_type": "code",
        "colab": {}
      },
      "source": [
        ""
      ],
      "execution_count": 0,
      "outputs": []
    }
  ]
}